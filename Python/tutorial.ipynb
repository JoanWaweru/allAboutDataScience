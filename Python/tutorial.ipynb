
{
  "nbformat": 4,
  "nbformat_minor": 0,
  "metadata": {
    "colab": {
      "provenance": [],
      "include_colab_link": true
    },
    "kernelspec": {
      "name": "python3",
      "display_name": "Python 3"
    },
    "language_info": {
      "name": "python"
    }
  },
  "cells": [
    {
      "cell_type": "markdown",
      "metadata": {
        "id": "view-in-github",
        "colab_type": "text"
      },
      "source": [
        "<a href=\"https://colab.research.google.com/github/JoanWaweru/allAboutDataScience/blob/main/PythonTutorial.ipynb\" target=\"_parent\"><img src=\"https://colab.research.google.com/assets/colab-badge.svg\" alt=\"Open In Colab\"/></a>"
      ]
    },
    {
      "cell_type": "code",
      "execution_count": null,
      "metadata": {
        "colab": {
          "base_uri": "https://localhost:8080/"
        },
        "id": "ti301CMSgARN",
        "outputId": "6cd7cabf-26d4-4a2d-8473-176b6367ec4b"
      },
      "outputs": [
        {
          "output_type": "stream",
          "name": "stdout",
          "text": [
            "Hi Joan!❤️\n"
          ]
        }
      ],
      "source": [
        "print('Hi Joan!❤️')"
      ]
    },
    {
      "cell_type": "code",
      "source": [
        "savingsAccount = 10000\n",
        "rate = 0.75"
      ],
      "metadata": {
        "id": "APtZfqVkgZHA"
      },
      "execution_count": null,
      "outputs": []
    },
    {
      "cell_type": "code",
      "source": [
        "interest = (savingsAccount*rate)/100\n",
        "print(interest)"
      ],
      "metadata": {
        "colab": {
          "base_uri": "https://localhost:8080/"
        },
        "id": "TEO7e7GGgko-",
        "outputId": "a6613075-f495-4196-d3ba-b953dd703589"
      },
      "execution_count": null,
      "outputs": [
        {
          "output_type": "stream",
          "name": "stdout",
          "text": [
            "75.0\n"
          ]
        }
      ]
    },
    {
      "cell_type": "code",
      "source": [
        "interest = int(interest)\n",
        "print(interest)"
      ],
      "metadata": {
        "colab": {
          "base_uri": "https://localhost:8080/"
        },
        "id": "f7s0N7nalBwc",
        "outputId": "106e40fb-f83e-498a-ac2d-916c32e0afee"
      },
      "execution_count": null,
      "outputs": [
        {
          "output_type": "stream",
          "name": "stdout",
          "text": [
            "75\n"
          ]
        }
      ]
    },
    {
      "cell_type": "code",
      "source": [
        "totalBal = savingsAccount + interest"
      ],
      "metadata": {
        "id": "5nAGtRFZhO_p"
      },
      "execution_count": null,
      "outputs": []
    },
    {
      "cell_type": "code",
      "source": [
        "print(\"Your account balance was\", savingsAccount, \"€\\nYou earned\", interest, \"€ this year. Your new balance is \",totalBal)"
      ],
      "metadata": {
        "colab": {
          "base_uri": "https://localhost:8080/"
        },
        "id": "OJC2y3tTgebn",
        "outputId": "70cab55e-90f5-445a-edab-deb9315e28f0"
      },
      "execution_count": null,
      "outputs": [
        {
          "output_type": "stream",
          "name": "stdout",
          "text": [
            "Your account balance was 10000 €\n",
            "You earned 75 € this year. Your new balance is  10075\n"
          ]
        }
      ]
    },
    {
      "cell_type": "code",
      "source": [
        "account = 200\n",
        "savings = 3000\n",
        "    \n",
        "# TO DO: modify the following line with the simplified operator +=\n",
        "savings += 500\n",
        "\n",
        "print(\"Your savings are: \", savings)"
      ],
      "metadata": {
        "colab": {
          "base_uri": "https://localhost:8080/"
        },
        "id": "VHQELaSEhxKF",
        "outputId": "dcb3ad45-812e-4e23-cdab-2cf1d1374161"
      },
      "execution_count": null,
      "outputs": [
        {
          "output_type": "stream",
          "name": "stdout",
          "text": [
            "Your savings are:  3500\n"
          ]
        }
      ]
    },
    {
      "cell_type": "code",
      "source": [
        "def printArea(dimension1, dimension2):\n",
        "  area = dimension1 * dimension2\n",
        "  return area"
      ],
      "metadata": {
        "id": "b99F5yB77l-K"
      },
      "execution_count": null,
      "outputs": []
    },
    {
      "cell_type": "code",
      "source": [
        "area1 = printArea(43,6)\n",
        "area2 = printArea(10,100)\n",
        "print(\"The area of my first square is\", +area1, \"and the second triangle is\", +area2)"
      ],
      "metadata": {
        "colab": {
          "base_uri": "https://localhost:8080/"
        },
        "id": "uzHNvthS7_Mn",
        "outputId": "fcb2bcd8-e351-4569-ff41-4408e81c8f12"
      },
      "execution_count": null,
      "outputs": [
        {
          "output_type": "stream",
          "name": "stdout",
          "text": [
            "The area of my first square is 258 and the second triangle is 1000\n"
          ]
        }
      ]
    },
    {
      "cell_type": "code",
      "source": [
        "text = \"This is me practising how to be a Data Scientist\"\n",
        "print(text.upper())\n",
        "print(text.replace('Scientist', 'Analyst'))\n",
        "print(text.find('to'))"
      ],
      "metadata": {
        "colab": {
          "base_uri": "https://localhost:8080/"
        },
        "id": "Oj5zUqyd8dMk",
        "outputId": "fbfede9a-b22a-4627-b7ec-19bf9c155b32"
      },
      "execution_count": null,
      "outputs": [
        {
          "output_type": "stream",
          "name": "stdout",
          "text": [
            "THIS IS ME PRACTISING HOW TO BE A DATA SCIENTIST\n",
            "This is me practising how to be a Data Analyst\n",
            "26\n"
          ]
        }
      ]
    },
    {
      "cell_type": "code",
      "source": [
        "a  = 4\n",
        "\n",
        "def polynomial(a, b, c, x):\n",
        "  return a*x**2 + b*x + c\n",
        "\n",
        "b = a\n",
        "b *= a\n",
        "c = 1\n",
        "result = polynomial(a, b, c, 0)\n",
        "a += 3\n",
        "a = 0"
      ],
      "metadata": {
        "id": "pqc612BQSljj"
      },
      "execution_count": null,
      "outputs": []
    },
    {
      "cell_type": "code",
      "source": [
        "print(a)\n",
        "print(b)\n",
        "print(c)\n",
        "print(result)"
      ],
      "metadata": {
        "colab": {
          "base_uri": "https://localhost:8080/"
        },
        "id": "zybKs0S6TC9Q",
        "outputId": "37abbd95-8c72-4c2d-ce41-b776571ac299"
      },
      "execution_count": null,
      "outputs": [
        {
          "output_type": "stream",
          "name": "stdout",
          "text": [
            "0\n",
            "16\n",
            "1\n",
            "1\n"
          ]
        }
      ]
    },
    {
      "cell_type": "code",
      "source": [
        "colors = ['red','yellow','orange','green','blue']\n",
        "print(colors)"
      ],
      "metadata": {
        "colab": {
          "base_uri": "https://localhost:8080/"
        },
        "id": "Dh0qGgmdfgGj",
        "outputId": "56032453-edaa-4385-c253-79007c81ea40"
      },
      "execution_count": null,
      "outputs": [
        {
          "output_type": "stream",
          "name": "stdout",
          "text": [
            "['red', 'yellow', 'orange', 'green', 'blue']\n"
          ]
        }
      ]
    },
    {
      "cell_type": "code",
      "source": [
        "for color in colors :\n",
        "    print(color)"
      ],
      "metadata": {
        "colab": {
          "base_uri": "https://localhost:8080/"
        },
        "id": "AmLCdyfagCsC",
        "outputId": "789c6190-8d53-4298-8911-06f665729ed9"
      },
      "execution_count": null,
      "outputs": [
        {
          "output_type": "stream",
          "name": "stdout",
          "text": [
            "red\n",
            "yellow\n",
            "orange\n",
            "green\n",
            "blue\n"
          ]
        }
      ]
    },
    {
      "cell_type": "code",
      "source": [
        "colors[3] = 'emerald'\n",
        "print(colors)"
      ],
      "metadata": {
        "colab": {
          "base_uri": "https://localhost:8080/"
        },
        "id": "aYiCpZFofjm6",
        "outputId": "4ca7e537-ee07-498e-daef-9df5d6ca7261"
      },
      "execution_count": null,
      "outputs": [
        {
          "output_type": "stream",
          "name": "stdout",
          "text": [
            "['red', 'yellow', 'orange', 'emerald', 'blue']\n"
          ]
        }
      ]
    },
    {
      "cell_type": "code",
      "source": [
        "guests = []\n",
        "guests.append('Joey')\n",
        "guests.append('Mary')\n",
        "guests.append('Martin')\n",
        "print(guests)\n",
        "print(len(guests))\n",
        "guests[2]='John'\n",
        "print(guests)\n",
        "guests.remove('Joey')\n",
        "for guest in guests:\n",
        "    print(guest)\n"
      ],
      "metadata": {
        "colab": {
          "base_uri": "https://localhost:8080/"
        },
        "id": "KvtT6BB0iZ9c",
        "outputId": "a64240c9-1c4c-45e0-9cdb-80809fab8717"
      },
      "execution_count": null,
      "outputs": [
        {
          "output_type": "stream",
          "name": "stdout",
          "text": [
            "['Joey', 'Mary', 'Martin']\n",
            "3\n",
            "['Joey', 'Mary', 'John']\n",
            "Mary\n",
            "John\n"
          ]
        }
      ]
    },
    {
      "cell_type": "markdown",
      "source": [
        "**Dictionaries**"
      ],
      "metadata": {
        "id": "zVcmhroJjxq8"
      }
    },
    {
      "cell_type": "code",
      "source": [
        "accounts = {'Marion Weaver': 10000, 'Alberto Mendoza': 150, 'Katharine Tyler': 300, 'Isaac Steele': 1800.74}\n",
        "print(accounts['Alberto Mendoza']) # -> 150\n",
        "print(accounts)"
      ],
      "metadata": {
        "colab": {
          "base_uri": "https://localhost:8080/"
        },
        "id": "NgoOqxNrjw-B",
        "outputId": "c1cf3d92-5346-48e8-e9b1-14db79fb7f56"
      },
      "execution_count": null,
      "outputs": [
        {
          "output_type": "stream",
          "name": "stdout",
          "text": [
            "150\n",
            "{'Marion Weaver': 10000, 'Alberto Mendoza': 150, 'Katharine Tyler': 300, 'Isaac Steele': 1800.74}\n"
          ]
        }
      ]
    },
    {
      "cell_type": "markdown",
      "source": [
        "**Manipulate the Items of a Dictionary**\n",
        "\n",
        "Here are the operations frequently carried out with dictionaries:\n",
        "\n",
        "*   Access the value of an item\n",
        "*   Add a new item (a new key-value pair)\n",
        "*   Delete an item via its key"
      ],
      "metadata": {
        "id": "dUBdjEwunJ_Z"
      }
    },
    {
      "cell_type": "code",
      "source": [
        "accounts['Marion Weaver'] -= 2000 # I subtract 2000 from Marion's account\n",
        "accounts['Kristian Roach'] = 1000 # I add a new individual in my dictionary\n",
        "print(accounts['Kristian Roach']) # I print the value of Kristian's account\n",
        "print(accounts['Marion Weaver'])"
      ],
      "metadata": {
        "colab": {
          "base_uri": "https://localhost:8080/"
        },
        "id": "_U0ERkiCna4E",
        "outputId": "635493bf-3f64-4f36-de4e-caf55dca247e"
      },
      "execution_count": null,
      "outputs": [
        {
          "output_type": "stream",
          "name": "stdout",
          "text": [
            "1000\n",
            "8000\n"
          ]
        }
      ]
    },
    {
      "cell_type": "code",
      "source": [
        "len(accounts) # -> 3"
      ],
      "metadata": {
        "colab": {
          "base_uri": "https://localhost:8080/"
        },
        "id": "T2T13uBZoud2",
        "outputId": "05f213c9-efc2-4029-9b7c-0560ccbba858"
      },
      "execution_count": null,
      "outputs": [
        {
          "output_type": "execute_result",
          "data": {
            "text/plain": [
              "5"
            ]
          },
          "metadata": {},
          "execution_count": 74
        }
      ]
    },
    {
      "cell_type": "code",
      "source": [
        "accounts.pop('Alberto Mendoza') # deletes Alberto Mendoza from our dictionary"
      ],
      "metadata": {
        "colab": {
          "base_uri": "https://localhost:8080/"
        },
        "id": "UeBpsJpboLO1",
        "outputId": "1cc4e3f6-5a9b-4d42-9f1f-6b0c51b338c8"
      },
      "execution_count": null,
      "outputs": [
        {
          "output_type": "execute_result",
          "data": {
            "text/plain": [
              "150"
            ]
          },
          "metadata": {},
          "execution_count": 75
        }
      ]
    },
    {
      "cell_type": "code",
      "source": [
        "len(accounts) # -> 3"
      ],
      "metadata": {
        "colab": {
          "base_uri": "https://localhost:8080/"
        },
        "id": "83Y68ZmcoUXp",
        "outputId": "5ae5b4a2-b3b9-47e0-ec8e-144620b3e306"
      },
      "execution_count": null,
      "outputs": [
        {
          "output_type": "execute_result",
          "data": {
            "text/plain": [
              "4"
            ]
          },
          "metadata": {},
          "execution_count": 76
        }
      ]
    },
    {
      "cell_type": "code",
      "source": [
        "name = input('What is your preferred username?')\n",
        "\n",
        "if len(name) > 0:\n",
        "    print(\"Hello\", name, \"!\")\n",
        "else:\n",
        "    print(\"Hello, world!\")"
      ],
      "metadata": {
        "colab": {
          "base_uri": "https://localhost:8080/"
        },
        "id": "Nmcvdy_Mpzaj",
        "outputId": "c58ba097-0a15-4d0b-98db-72f1b3dfe3d9"
      },
      "execution_count": null,
      "outputs": [
        {
          "output_type": "stream",
          "name": "stdout",
          "text": [
            "What is your preferred username?Joan Waweru\n",
            "Hello Joan Waweru !\n"
          ]
        }
      ]
    },
    {
      "cell_type": "code",
      "source": [],
      "metadata": {
        "id": "xwNQ8s41qfD1"
      },
      "execution_count": null,
      "outputs": []
    }
  ]
}
